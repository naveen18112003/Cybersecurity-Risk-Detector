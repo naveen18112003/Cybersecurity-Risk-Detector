{
 "cells": [
  {
   "cell_type": "code",
   "execution_count": 2,
   "metadata": {},
   "outputs": [
    {
     "name": "stdout",
     "output_type": "stream",
     "text": [
      "Dataset created and saved as veri.csv.\n"
     ]
    }
   ],
   "source": [
    "import pandas as pd\n",
    "import numpy as np\n",
    "\n",
    "# Set random seed for reproducibility\n",
    "np.random.seed(42)\n",
    "\n",
    "# Number of samples\n",
    "num_samples = 1000\n",
    "\n",
    "# Generate synthetic data\n",
    "vulnerabilities = np.random.randint(0, 101, num_samples)\n",
    "system_uptime = np.random.randint(0, 1001, num_samples)\n",
    "security_incidents = np.random.randint(0, 51, num_samples)\n",
    "patch_frequency = np.random.choice(['Daily', 'Weekly', 'Monthly', 'Rarely'], num_samples)\n",
    "open_ports = np.random.randint(1, 65536, num_samples)\n",
    "\n",
    "# Define risk level (High Risk or Low Risk) based on simple rules\n",
    "risk_level = [\n",
    "    'High Risk' if (vul > 50 or sec_inc > 10 or freq == 'Rarely') else 'Low Risk'\n",
    "    for vul, sec_inc, freq in zip(vulnerabilities, security_incidents, patch_frequency)\n",
    "]\n",
    "\n",
    "# Create a DataFrame\n",
    "data = pd.DataFrame({\n",
    "    'Number of Vulnerabilities': vulnerabilities,\n",
    "    'System Uptime (days)': system_uptime,\n",
    "    'Number of Security Incidents': security_incidents,\n",
    "    'Patch Update Frequency': patch_frequency,\n",
    "    'Number of Open Ports': open_ports,\n",
    "    'Risk Level': risk_level\n",
    "})\n",
    "\n",
    "# Save the dataset \n",
    "data.to_csv('veri.csv', index=False)\n",
    "\n",
    "print(\"Dataset created and saved as veri.csv.\")\n"
   ]
  }
 ],
 "metadata": {
  "kernelspec": {
   "display_name": "Python 3",
   "language": "python",
   "name": "python3"
  },
  "language_info": {
   "codemirror_mode": {
    "name": "ipython",
    "version": 3
   },
   "file_extension": ".py",
   "mimetype": "text/x-python",
   "name": "python",
   "nbconvert_exporter": "python",
   "pygments_lexer": "ipython3",
   "version": "3.10.12"
  }
 },
 "nbformat": 4,
 "nbformat_minor": 2
}
